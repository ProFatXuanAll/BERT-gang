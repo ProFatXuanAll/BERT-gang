{
 "metadata": {
  "language_info": {
   "codemirror_mode": {
    "name": "ipython",
    "version": 3
   },
   "file_extension": ".py",
   "mimetype": "text/x-python",
   "name": "python",
   "nbconvert_exporter": "python",
   "pygments_lexer": "ipython3",
   "version": "3.8.0"
  },
  "orig_nbformat": 2,
  "kernelspec": {
   "name": "python38064bitvenvvenv1d7cf1dc08ad48a693d8304396dec1ba",
   "display_name": "Python 3.8.0 64-bit ('.venv': venv)",
   "language": "python"
  }
 },
 "nbformat": 4,
 "nbformat_minor": 2,
 "cells": [
  {
   "cell_type": "code",
   "execution_count": 1,
   "metadata": {},
   "outputs": [],
   "source": [
    "import torch\n",
    "import torch.nn\n",
    "import torch.utils\n",
    "import torch.utils.data\n",
    "import fine_tune\n",
    "from tqdm import tqdm"
   ]
  },
  {
   "cell_type": "code",
   "execution_count": 2,
   "metadata": {},
   "outputs": [],
   "source": [
    "TASK = 'qnli'\n",
    "TEACHER_EXP = 'teacher_base'\n",
    "TMODEL = 'bert'\n",
    "TCKPT = 9822\n",
    "STUDENT_EXP = 'MSE_init_from_pre_trained'\n",
    "SMODEL = 'bert'\n",
    "SCKPT = 13096\n",
    "DATASET = 'train'\n",
    "SDEVICE = 0\n",
    "TDEVICE = 0\n",
    "BATCH_SIZE = 1\n"
   ]
  },
  {
   "cell_type": "code",
   "execution_count": 3,
   "metadata": {},
   "outputs": [
    {
     "output_type": "stream",
     "name": "stdout",
     "text": [
      "\n+---------------------------------------+\n| configuration     | value             |\n+---------------------------------------+\n| accum_step        | 2                 |\n| amp               | 0                 |\n| batch_size        | 32                |\n| beta1             | 0.9               |\n| beta2             | 0.999             |\n| ckpt_step         | 1000              |\n| dataset           | train             |\n| device_id         | 0                 |\n| dropout           | 0.1               |\n| eps               | 1e-08             |\n| experiment        | teacher_base      |\n| log_step          | 500               |\n| lr                | 3e-05             |\n| max_norm          | 1.0               |\n| max_seq_len       | 128               |\n| model             | bert              |\n| num_class         | 2                 |\n| ptrain_ver        | bert-base-uncased |\n| seed              | 42                |\n| task              | qnli              |\n| total_step        | 9822              |\n| warmup_step       | 3274              |\n| weight_decay      | 0.01              |\n+---------------------------------------+\n"
     ]
    }
   ],
   "source": [
    "teacher_config = fine_tune.config.TeacherConfig.load(\n",
    "    experiment=TEACHER_EXP,\n",
    "    model=TMODEL,\n",
    "    task=TASK\n",
    ")\n",
    "teacher_config.device_id = TDEVICE\n",
    "teacher_config.dataset = DATASET\n",
    "print(teacher_config)"
   ]
  },
  {
   "cell_type": "code",
   "execution_count": 4,
   "metadata": {},
   "outputs": [
    {
     "output_type": "stream",
     "name": "stdout",
     "text": [
      "\n+-------------------------------------------+\n| configuration       | value               |\n+-------------------------------------------+\n| accum_step          | 2                   |\n| amp                 | 0                   |\n| batch_size          | 32                  |\n| beta1               | 0.9                 |\n| beta2               | 0.999               |\n| ckpt_step           | 2000                |\n| d_emb               | 128                 |\n| d_ff                | 3072                |\n| d_model             | 768                 |\n| dataset             | train               |\n| device_id           | 0                   |\n| dropout             | 0.1                 |\n| eps                 | 1e-08               |\n| experiment          | Contrast_by_sample  |\n| log_step            | 100                 |\n| lr                  | 3e-05               |\n| max_norm            | 1.0                 |\n| max_seq_len         | 128                 |\n| model               | bert                |\n| num_attention_heads | 12                  |\n| num_class           | 2                   |\n| num_hidden_layers   | 6                   |\n| seed                | 42                  |\n| task                | qnli                |\n| total_step          | 26192               |\n| type_vocab_size     | 2                   |\n| warmup_step         | 2619                |\n| weight_decay        | 0.01                |\n+-------------------------------------------+\n"
     ]
    }
   ],
   "source": [
    "student_config = fine_tune.config.StudentConfig.load(\n",
    "    experiment=STUDENT_EXP,\n",
    "    model=SMODEL,\n",
    "    task=TASK\n",
    ")\n",
    "student_config.device_id = SDEVICE\n",
    "student_config.dataset = DATASET\n",
    "print(student_config)"
   ]
  },
  {
   "source": [
    "# Use training dataset to find similarity between CLS embeddings"
   ],
   "cell_type": "markdown",
   "metadata": {}
  },
  {
   "cell_type": "code",
   "execution_count": 5,
   "metadata": {},
   "outputs": [
    {
     "output_type": "stream",
     "name": "stderr",
     "text": [
      "2021/05/07 15:32:15 - INFO - fine_tune.task -   Start loading task QNLI dataset train.\n",
      "Loading QNLI train: 104743it [00:00, 472977.26it/s]\n",
      "2021/05/07 15:32:15 - INFO - fine_tune.task -   Number of samples: 104743\n",
      "2021/05/07 15:32:15 - INFO - fine_tune.task -   Finish loading task QNLI dataset train.\n"
     ]
    }
   ],
   "source": [
    "dataset = fine_tune.util.load_dataset_by_config(\n",
    "    config=teacher_config\n",
    ")"
   ]
  },
  {
   "cell_type": "code",
   "execution_count": 6,
   "metadata": {},
   "outputs": [],
   "source": [
    "teacher_tknr = fine_tune.util.load_teacher_tokenizer_by_config(\n",
    "    config=teacher_config\n",
    ")\n",
    "student_tknr = fine_tune.util.load_student_tokenizer_by_config(\n",
    "    config=student_config\n",
    ")"
   ]
  },
  {
   "cell_type": "code",
   "execution_count": 7,
   "metadata": {},
   "outputs": [
    {
     "output_type": "stream",
     "name": "stdout",
     "text": [
      "/home/kychen/Desktop/BERT-gang/data/fine_tune_experiment/teacher_base_bert_qnli\n"
     ]
    }
   ],
   "source": [
    "TEACHER_EXP_NAME = fine_tune.config.BaseConfig.experiment_name(\n",
    "    experiment=teacher_config.experiment,\n",
    "    model=teacher_config.model,\n",
    "    task=teacher_config.task\n",
    ")\n",
    "TEACHER_EXP_DIR = os.path.join(\n",
    "    fine_tune.path.FINE_TUNE_EXPERIMENT,\n",
    "    TEACHER_EXP_NAME\n",
    ")\n",
    "print(TEACHER_EXP_DIR)"
   ]
  },
  {
   "cell_type": "code",
   "execution_count": 8,
   "metadata": {},
   "outputs": [
    {
     "output_type": "execute_result",
     "data": {
      "text/plain": [
       "<All keys matched successfully>"
      ]
     },
     "metadata": {},
     "execution_count": 8
    }
   ],
   "source": [
    "\n",
    "teacher_model = fine_tune.util.load_teacher_model_by_config(\n",
    "    config=teacher_config\n",
    ")\n",
    "teacher_model.load_state_dict(\n",
    "    torch.load(\n",
    "        os.path.join(TEACHER_EXP_DIR, f'model-{TCKPT}.pt'),\n",
    "        map_location=teacher_config.device\n",
    "    )\n",
    ")"
   ]
  },
  {
   "cell_type": "code",
   "execution_count": 9,
   "metadata": {},
   "outputs": [
    {
     "output_type": "stream",
     "name": "stdout",
     "text": [
      "/home/kychen/Desktop/BERT-gang/data/fine_tune_experiment/Contrast_by_sample_bert_qnli\n"
     ]
    }
   ],
   "source": [
    "STUDENT_EXP_NAME = fine_tune.config.BaseConfig.experiment_name(\n",
    "    experiment=student_config.experiment,\n",
    "    model=student_config.model,\n",
    "    task=student_config.task\n",
    ")\n",
    "STUDENT_EXP_DIR = os.path.join(\n",
    "    fine_tune.path.FINE_TUNE_EXPERIMENT,\n",
    "    STUDENT_EXP_NAME\n",
    ")\n",
    "print(STUDENT_EXP_DIR)"
   ]
  },
  {
   "cell_type": "code",
   "execution_count": 10,
   "metadata": {},
   "outputs": [
    {
     "output_type": "stream",
     "name": "stderr",
     "text": [
      "2021/05/07 15:32:25 - INFO - fine_tune.model.student_bert -   Load model state dict from pre-trained model\n",
      "2021/05/07 15:32:25 - INFO - fine_tune.model.student_bert -   Finish initialization from pre-trained model\n"
     ]
    },
    {
     "output_type": "execute_result",
     "data": {
      "text/plain": [
       "<All keys matched successfully>"
      ]
     },
     "metadata": {},
     "execution_count": 10
    }
   ],
   "source": [
    "student_model = fine_tune.util.load_student_model_by_config(\n",
    "    config=student_config,\n",
    "    tokenizer=student_tknr\n",
    ")\n",
    "student_model.load_state_dict(\n",
    "    torch.load(\n",
    "        os.path.join(STUDENT_EXP_DIR, f'model-{SCKPT}.pt'),\n",
    "        map_location=student_config.device\n",
    "    )\n",
    ")"
   ]
  },
  {
   "cell_type": "code",
   "execution_count": 11,
   "metadata": {},
   "outputs": [],
   "source": [
    "dataloader = torch.utils.data.DataLoader(\n",
    "    dataset,\n",
    "    collate_fn=dataset.create_collate_fn(),\n",
    "    batch_size=BATCH_SIZE\n",
    ")"
   ]
  },
  {
   "cell_type": "code",
   "execution_count": 12,
   "metadata": {},
   "outputs": [],
   "source": [
    "cosine_sim = torch.nn.CosineSimilarity()"
   ]
  },
  {
   "cell_type": "code",
   "execution_count": 13,
   "metadata": {},
   "outputs": [],
   "source": [
    "not_similar_list = []"
   ]
  },
  {
   "cell_type": "code",
   "execution_count": 14,
   "metadata": {},
   "outputs": [
    {
     "output_type": "stream",
     "name": "stderr",
     "text": [
      "100%|██████████| 104743/104743 [24:03<00:00, 72.58it/s]\n"
     ]
    }
   ],
   "source": [
    "student_model.eval()\n",
    "teacher_model.eval()\n",
    "for text, text_pair, label in tqdm(dataloader):\n",
    "    teacher_encode = teacher_tknr(\n",
    "        text=text,\n",
    "        text_pair=text_pair,\n",
    "        padding='max_length',\n",
    "        max_length=teacher_config.max_seq_len,\n",
    "        return_tensors='pt',\n",
    "        truncation=True\n",
    "    )\n",
    "    teacher_input_ids = teacher_encode['input_ids']\n",
    "    teacher_token_type_ids = teacher_encode['token_type_ids']\n",
    "    teacher_attention_mask = teacher_encode['attention_mask']\n",
    "\n",
    "    student_encode = student_tknr(\n",
    "        text=text,\n",
    "        text_pair=text_pair,\n",
    "        padding='max_length',\n",
    "        max_length=student_config.max_seq_len,\n",
    "        return_tensors='pt',\n",
    "        truncation=True\n",
    "    )\n",
    "    student_input_ids = student_encode['input_ids']\n",
    "    student_token_type_ids = student_encode['token_type_ids']\n",
    "    student_attention_mask = student_encode['attention_mask']\n",
    "\n",
    "    _, t_cls = teacher_model(\n",
    "        input_ids = teacher_input_ids.to(teacher_config.device),\n",
    "        token_type_ids = teacher_token_type_ids.to(teacher_config.device),\n",
    "        attention_mask = teacher_attention_mask.to(teacher_config.device)\n",
    "    )\n",
    "\n",
    "    _, s_cls = student_model(\n",
    "        input_ids = student_input_ids.to(student_config.device),\n",
    "        token_type_ids = student_token_type_ids.to(student_config.device),\n",
    "        attention_mask = student_attention_mask.to(student_config.device)\n",
    "    )\n",
    "\n",
    "    if cosine_sim(t_cls.to(student_config.device), s_cls) < 0.5:\n",
    "        not_similar_list.append({'text':text, 'text_pair':text_pair, 'label': label})"
   ]
  },
  {
   "cell_type": "code",
   "execution_count": 15,
   "metadata": {},
   "outputs": [
    {
     "output_type": "execute_result",
     "data": {
      "text/plain": [
       "59225"
      ]
     },
     "metadata": {},
     "execution_count": 15
    }
   ],
   "source": [
    "len(not_similar_list)"
   ]
  },
  {
   "cell_type": "code",
   "execution_count": 16,
   "metadata": {},
   "outputs": [
    {
     "output_type": "execute_result",
     "data": {
      "text/plain": [
       "3262.0112490000033"
      ]
     },
     "metadata": {},
     "execution_count": 16
    }
   ],
   "source": [
    "len(dataset) * (0.989164-0.958021)"
   ]
  },
  {
   "cell_type": "code",
   "execution_count": 17,
   "metadata": {},
   "outputs": [],
   "source": [
    "import csv\n",
    "with open(f'not_similar_qnli_{STUDENT_EXP}_{DATASET}.csv', 'w', newline='') as file:\n",
    "    fc = csv.DictWriter(file, fieldnames=not_similar_list[0].keys())\n",
    "    fc.writeheader()\n",
    "    fc.writerows(not_similar_list)\n",
    "    "
   ]
  },
  {
   "cell_type": "code",
   "execution_count": null,
   "metadata": {},
   "outputs": [],
   "source": []
  }
 ]
}